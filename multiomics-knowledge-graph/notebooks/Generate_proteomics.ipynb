{
  "nbformat": 4,
  "nbformat_minor": 0,
  "metadata": {
    "colab": {
      "provenance": []
    },
    "kernelspec": {
      "name": "python3",
      "display_name": "Python 3"
    },
    "language_info": {
      "name": "python"
    }
  },
  "cells": [
    {
      "cell_type": "code",
      "execution_count": 3,
      "metadata": {
        "colab": {
          "base_uri": "https://localhost:8080/"
        },
        "id": "aL5ZYtuYBlVY",
        "outputId": "06123126-5a15-4279-fa3b-edb8eef6671f"
      },
      "outputs": [
        {
          "output_type": "stream",
          "name": "stdout",
          "text": [
            "Mounted at /content/drive\n"
          ]
        }
      ],
      "source": [
        "from google.colab import drive\n",
        "drive.mount('/content/drive')\n",
        "import pandas as pd\n",
        "import numpy as np\n",
        "import os\n",
        "df = pd.read_excel('/content/drive/MyDrive/KAUST Master/Research/glosario_de_fitomejoramiento_new.xlsx',skiprows=2)\n",
        "# Directory containing the Excel files\n",
        "directory = '/content/drive/MyDrive/KAUST Master/Research/Hackathon'"
      ]
    },
    {
      "cell_type": "code",
      "source": [
        "from google.colab import drive\n",
        "drive.mount('/content/drive')\n",
        "import pandas as pd\n",
        "import numpy as np\n",
        "import os\n",
        "df = pd.read_excel('/content/drive/MyDrive/KAUST Master/Research/glosario_de_fitomejoramiento_new.xlsx',skiprows=2)\n",
        "# Directory containing the Excel files\n",
        "directory = '/content/drive/MyDrive/KAUST Master/Research/Hackathon'\n",
        "\n",
        "# List to store the extracted values\n",
        "values = []\n",
        "expression = []\n",
        "subject = []\n",
        "\n",
        "# Loop through the Excel files in the directory\n",
        "for filename in os.listdir(directory):\n",
        "    if filename.endswith('.xlsx') or filename.endswith('.xls'):\n",
        "        file_path = os.path.join(directory, filename)\n",
        "        Case = os.path.splitext(os.path.basename(filename))[0]\n",
        "\n",
        "        # Read the Excel file and extract the 'Protein Summary' sheet\n",
        "        df = pd.read_excel(file_path, sheet_name='Protein Summary')\n",
        "\n",
        "        # Remove NaN or blank spaces from the column 'Protein Summary'\n",
        "        protein_summary = df['Entry'].dropna().astype(str).str.strip()\n",
        "\n",
        "        # Join the values with the URL extension\n",
        "        protein_urls = 'http://purl.uniprot.org/uniprot/' + protein_summary\n",
        "\n",
        "        # Append the values to the list\n",
        "        values.extend(protein_urls.tolist())\n",
        "        expression.extend(['{}\"^^http://www.w3.org/2001/XMLSchema#double'.format(val) for val in np.ones(len(protein_summary))])\n",
        "        subject.extend(['http://2023.biohackathon.org/graph/{}'.format(Case)] * len(protein_summary))\n",
        "\n",
        "# Create a DataFrame with the extracted values and columns\n",
        "df_output = pd.DataFrame({'values': values, 'expression': expression, 'ones': np.ones(len(values)), 'subject': subject})\n",
        "\n",
        "# Save the DataFrame to a text file\n",
        "df_output.to_csv('proteomics_output.txt', sep='\\t', index=False, header=False)\n"
      ],
      "metadata": {
        "id": "bVfV2zE7QmAI"
      },
      "execution_count": 35,
      "outputs": []
    }
  ]
}